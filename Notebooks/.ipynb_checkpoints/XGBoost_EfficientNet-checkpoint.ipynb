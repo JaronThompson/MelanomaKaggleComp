{
 "cells": [
  {
   "cell_type": "code",
   "execution_count": 1,
   "metadata": {},
   "outputs": [],
   "source": [
    "import numpy as np \n",
    "import pandas as pd \n",
    "import matplotlib.pyplot as plt \n",
    "from tqdm import tqdm\n",
    "\n",
    "import torch \n",
    "import torch.nn as nn\n",
    "import torchvision\n",
    "import torchvision.transforms as transforms\n",
    "\n",
    "from PIL import Image\n",
    "from skimage.transform import resize\n",
    "from sklearn.ensemble import RandomForestClassifier\n",
    "from sklearn.model_selection import train_test_split\n",
    "from sklearn.metrics import accuracy_score, confusion_matrix, roc_curve, auc\n",
    "\n",
    "import xgboost as xgb\n",
    "\n",
    "# import efficientnet for feature extraction \n",
    "from efficientnet_pytorch import EfficientNet"
   ]
  },
  {
   "cell_type": "code",
   "execution_count": 2,
   "metadata": {},
   "outputs": [
    {
     "name": "stdout",
     "output_type": "stream",
     "text": [
      "cuda:0\n"
     ]
    }
   ],
   "source": [
    "# Device configuration (GPU can be enabled in settings)\n",
    "device = torch.device('cuda:0' if torch.cuda.is_available() else 'cpu')\n",
    "#device = 'cpu'\n",
    "print(device)"
   ]
  },
  {
   "cell_type": "code",
   "execution_count": 4,
   "metadata": {},
   "outputs": [],
   "source": [
    "# upload train dataframe\n",
    "train_df_allsamples = pd.read_csv(\"../TrainTestDataFrames/marking.csv\")\n",
    "train_df_allsamples.head()\n",
    "path = \"../../data-512/512x512-dataset-melanoma/512x512-dataset-melanoma/\""
   ]
  },
  {
   "cell_type": "code",
   "execution_count": 5,
   "metadata": {},
   "outputs": [
    {
     "name": "stdout",
     "output_type": "stream",
     "text": [
      "60487 training samples total.\n",
      "Only 9.058 percent of training data set is a true positive.\n",
      "Therefore, the baseline accuracy is 90.942\n"
     ]
    }
   ],
   "source": [
    "# create dictionary that maps image name to target \n",
    "image_names = train_df_allsamples[\"image_id\"].values \n",
    "targets = train_df_allsamples[\"target\"].values\n",
    "img_to_target = {image_name:target for image_name, target in zip(image_names, targets)}\n",
    "\n",
    "percent_tp = sum(targets)/len(targets) * 100 \n",
    "print(\"{} training samples total.\".format(len(targets)))\n",
    "print(\"Only {:.3f} percent of training data set is a true positive.\".format(percent_tp))\n",
    "print(\"Therefore, the baseline accuracy is {:.3f}\".format(np.max([percent_tp, 100-percent_tp])))"
   ]
  },
  {
   "cell_type": "code",
   "execution_count": 6,
   "metadata": {},
   "outputs": [
    {
     "name": "stdout",
     "output_type": "stream",
     "text": [
      "58974 Training and 1513 Validation samples\n",
      "9.914 percent of validation data set is a positive.\n",
      "Baseline validation accuracy is 90.086\n"
     ]
    }
   ],
   "source": [
    "# update so that the number of positives balances negatives\n",
    "train_df_pos = train_df_allsamples.iloc[targets>0, :]\n",
    "train_df_neg = train_df_allsamples.iloc[targets==0, :]\n",
    "train_df_negsample = train_df_neg.sample(n=int(train_df_pos.shape[0]))\n",
    "\n",
    "# concatenate negative and positive samples, then shuffle using .sample() \n",
    "#train_val_df = pd.concat((train_df_pos, train_df_negsample)).sample(frac=1)\n",
    "train_val_df = train_df_allsamples.sample(frac=1)\n",
    "\n",
    "train_val_split = .975\n",
    "n_train_val = train_val_df.shape[0]\n",
    "n_train = int(train_val_split*n_train_val)\n",
    "\n",
    "train_df = train_val_df[:n_train]\n",
    "val_df = train_val_df[n_train:]\n",
    "\n",
    "# create dictionary that maps image name to target \n",
    "image_names = val_df[\"image_id\"].values \n",
    "val_targets = val_df[\"target\"].values\n",
    "\n",
    "percent_tp = sum(val_targets)/len(val_targets) * 100 \n",
    "baseline = np.max([percent_tp, 100-percent_tp])\n",
    "\n",
    "print(\"{} Training and {} Validation samples\".format(n_train, n_train_val-n_train))\n",
    "print(\"{:.3f} percent of validation data set is a positive.\".format(percent_tp))\n",
    "print(\"Baseline validation accuracy is {:.3f}\".format(baseline))"
   ]
  },
  {
   "cell_type": "code",
   "execution_count": 4,
   "metadata": {},
   "outputs": [
    {
     "name": "stdout",
     "output_type": "stream",
     "text": [
      "Loaded pretrained weights for efficientnet-b0\n"
     ]
    }
   ],
   "source": [
    "# import efficientnet model \n",
    "model = EfficientNet.from_pretrained('efficientnet-b0').to(device)"
   ]
  },
  {
   "cell_type": "code",
   "execution_count": 7,
   "metadata": {},
   "outputs": [],
   "source": [
    "meta_features = ['sex', 'age_approx', 'anatom_site_general_challenge'] \n",
    "\n",
    "encoder = {}\n",
    "for feature in meta_features: \n",
    "    # determine unique features  \n",
    "    categories = np.unique(np.array(train_df[feature].values, str))\n",
    "    for i, category in enumerate(categories): \n",
    "        if category != 'nan':\n",
    "            encoder[category] = np.float(i)\n",
    "encoder['nan'] = np.nan\n",
    "\n",
    "transform = transforms.Compose([\n",
    "    transforms.RandomResizedCrop(size=256, scale=(0.7, 1.0)),\n",
    "    transforms.RandomHorizontalFlip(),\n",
    "    transforms.RandomVerticalFlip(),\n",
    "    transforms.ToTensor(),\n",
    "    transforms.Normalize(mean=[0.485, 0.456, 0.406],std=[0.229, 0.224, 0.225])])\n",
    "\n",
    "class Dataset(torch.utils.data.Dataset):\n",
    "    def __init__(self, df, path_to_files):\n",
    "        # 1. Initialize file paths or a list of file names.\n",
    "        self.path = path_to_files\n",
    "        self.df = df\n",
    "\n",
    "    def __getitem__(self, index):\n",
    "        # 1. Read one data from file (e.g. using numpy.fromfile, PIL.Image.open).\n",
    "        \n",
    "        # load X \n",
    "        img_name = self.df['image_id'].values[index]\n",
    "        img_path = self.path + img_name + \".jpg\"\n",
    "        img = plt.imread(img_path)\n",
    "        \n",
    "        # determine meta data \n",
    "        meta = self.df[meta_features].values[index]\n",
    "        meta_data = np.array([encoder[str(m)] for m in meta])\n",
    "        \n",
    "        # load y \n",
    "        label = self.df[\"target\"].values[index]\n",
    "        target = torch.tensor(label, dtype=torch.float32)\n",
    "        \n",
    "        # 2. Preprocess the data (e.g. torchvision.Transform).\n",
    "        img = Image.fromarray(img)\n",
    "        #img = img.resize((256, 256))\n",
    "        img_processed = transform(img)\n",
    "        # 3. Return a data pair (e.g. image and label).\n",
    "        return img_processed, meta_data, target\n",
    "        \n",
    "    def __len__(self):\n",
    "        # total size of your dataset.\n",
    "        return self.df.shape[0]"
   ]
  },
  {
   "cell_type": "code",
   "execution_count": 6,
   "metadata": {},
   "outputs": [
    {
     "data": {
      "text/plain": [
       "'\\n# Use the data loader.\\nbatch_size = 8\\n\\ntrain_dataset = Dataset(train_df, path)                                              \\ntrain_loader = torch.utils.data.DataLoader(dataset=train_dataset, \\n                                           batch_size=batch_size)   \\n\\nmodel = model.eval()\\nfor i, (images, meta_data, labels) in tqdm(enumerate(train_loader)):\\n    images = images.to(device)\\n\\n    # Forward pass\\n    embed = model(images)\\n    embedding = embed.detach().cpu().numpy()\\n\\n    # determine NN features for the set of images \\n    batch_features = np.concatenate((embedding, meta_data.numpy()), axis=1)\\n    \\n    # append the dataset\\n    try:\\n        X = np.concatenate((X, batch_features), 0)\\n        y = np.append(y, labels.numpy())\\n    except:\\n        X = batch_features \\n        y = labels.numpy() \\n'"
      ]
     },
     "execution_count": 6,
     "metadata": {},
     "output_type": "execute_result"
    }
   ],
   "source": [
    "# Use the data loader.\n",
    "batch_size = 16\n",
    "\n",
    "train_dataset = Dataset(train_df, path)                                              \n",
    "train_loader = torch.utils.data.DataLoader(dataset=train_dataset, \n",
    "                                           batch_size=batch_size)   \n",
    "\n",
    "model = model.eval()\n",
    "for i, (images, meta_data, labels) in tqdm(enumerate(train_loader)):\n",
    "    images = images.to(device)\n",
    "\n",
    "    # Forward pass\n",
    "    embed = model(images)\n",
    "    embedding = embed.detach().cpu().numpy()\n",
    "\n",
    "    # determine NN features for the set of images \n",
    "    batch_features = np.concatenate((embedding, meta_data.numpy()), axis=1)\n",
    "    \n",
    "    # append the dataset\n",
    "    try:\n",
    "        X = np.concatenate((X, batch_features), 0)\n",
    "        y = np.append(y, labels.numpy())\n",
    "    except:\n",
    "        X = batch_features \n",
    "        y = labels.numpy() \n"
   ]
  },
  {
   "cell_type": "code",
   "execution_count": 20,
   "metadata": {},
   "outputs": [],
   "source": [
    "# Empty GPU cache \n",
    "torch.cuda.empty_cache()\n",
    "\n",
    "# Save X and y in pandas dataframe \n",
    "XGB_data = pd.DataFrame(data=X)\n",
    "XGB_data['targets'] = y \n",
    "XGB_data.to_csv(\"XGB_ENet_train.csv\", index=False)\n",
    "#XGB_data = pd.read_csv(\"XGB_ENet_train.csv\")\n",
    "\n",
    "X = np.array(XGB_data.values[:, :-1], np.float32) \n",
    "y = np.array(XGB_data['targets'].values, np.float32)"
   ]
  },
  {
   "cell_type": "code",
   "execution_count": 8,
   "metadata": {},
   "outputs": [],
   "source": [
    "# weight positive examples more heavily \n",
    "def make_weights(targets, nclasses=2):   \n",
    "    count = [0] * nclasses                                                      \n",
    "    for label in targets:                                                         \n",
    "        count[np.int(label)] += 1                                                     \n",
    "    weight_per_class = [0.] * nclasses                                      \n",
    "    N = float(sum(count))                                                   \n",
    "    for i in range(nclasses):                                                   \n",
    "        weight_per_class[i] = N/float(count[i])                                 \n",
    "    weight = [0] * len(targets)                                              \n",
    "    for idx, label in enumerate(targets):                                          \n",
    "        weight[idx] = weight_per_class[np.int(label)]                                  \n",
    "    return np.array(weight)"
   ]
  },
  {
   "cell_type": "code",
   "execution_count": 21,
   "metadata": {},
   "outputs": [
    {
     "ename": "XGBoostError",
     "evalue": "b'[21:29:52] src/learner.cc:152: XGBoost version not compiled with GPU support.\\n\\nStack trace returned 10 entries:\\n[bt] (0) /home/jaron/anaconda3/lib/libxgboost.so(dmlc::StackTrace()+0x42) [0x7f100f5a3692]\\n[bt] (1) /home/jaron/anaconda3/lib/libxgboost.so(dmlc::LogMessageFatal::~LogMessageFatal()+0x18) [0x7f100f5a3c98]\\n[bt] (2) /home/jaron/anaconda3/lib/libxgboost.so(xgboost::LearnerImpl::ConfigureUpdaters()+0xf1) [0x7f100f5b0031]\\n[bt] (3) /home/jaron/anaconda3/lib/libxgboost.so(xgboost::LearnerImpl::Configure(std::vector<std::pair<std::string, std::string>, std::allocator<std::pair<std::string, std::string> > > const&)+0x467) [0x7f100f5b27a7]\\n[bt] (4) /home/jaron/anaconda3/lib/libxgboost.so(XGBoosterUpdateOneIter+0x6e) [0x7f100f6f383e]\\n[bt] (5) /home/jaron/anaconda3/lib/python3.5/lib-dynload/../../libffi.so.6(ffi_call_unix64+0x4c) [0x7f108c729ec0]\\n[bt] (6) /home/jaron/anaconda3/lib/python3.5/lib-dynload/../../libffi.so.6(ffi_call+0x22d) [0x7f108c72987d]\\n[bt] (7) /home/jaron/anaconda3/lib/python3.5/lib-dynload/_ctypes.cpython-35m-x86_64-linux-gnu.so(_ctypes_callproc+0x2ce) [0x7f108c93eb3e]\\n[bt] (8) /home/jaron/anaconda3/lib/python3.5/lib-dynload/_ctypes.cpython-35m-x86_64-linux-gnu.so(+0x12565) [0x7f108c93f565]\\n[bt] (9) /home/jaron/anaconda3/bin/python(PyObject_Call+0x3a) [0x558646b9a45a]\\n\\n'",
     "output_type": "error",
     "traceback": [
      "\u001b[0;31m---------------------------------------------------------------------------\u001b[0m",
      "\u001b[0;31mXGBoostError\u001b[0m                              Traceback (most recent call last)",
      "\u001b[0;32m<ipython-input-21-52be8cd68108>\u001b[0m in \u001b[0;36m<module>\u001b[0;34m()\u001b[0m\n\u001b[1;32m     20\u001b[0m \u001b[0;31m# Training\u001b[0m\u001b[0;34m\u001b[0m\u001b[0;34m\u001b[0m\u001b[0m\n\u001b[1;32m     21\u001b[0m \u001b[0mnum_round\u001b[0m \u001b[0;34m=\u001b[0m \u001b[0;36m5000\u001b[0m\u001b[0;34m\u001b[0m\u001b[0m\n\u001b[0;32m---> 22\u001b[0;31m \u001b[0mbst\u001b[0m \u001b[0;34m=\u001b[0m \u001b[0mxgb\u001b[0m\u001b[0;34m.\u001b[0m\u001b[0mtrain\u001b[0m\u001b[0;34m(\u001b[0m\u001b[0mparam\u001b[0m\u001b[0;34m,\u001b[0m \u001b[0mdtrain\u001b[0m\u001b[0;34m,\u001b[0m \u001b[0mnum_round\u001b[0m\u001b[0;34m,\u001b[0m \u001b[0mevals\u001b[0m\u001b[0;34m=\u001b[0m\u001b[0mevallist\u001b[0m\u001b[0;34m,\u001b[0m \u001b[0mearly_stopping_rounds\u001b[0m\u001b[0;34m=\u001b[0m\u001b[0;36m15\u001b[0m\u001b[0;34m)\u001b[0m\u001b[0;34m\u001b[0m\u001b[0m\n\u001b[0m",
      "\u001b[0;32m~/anaconda3/lib/python3.5/site-packages/xgboost/training.py\u001b[0m in \u001b[0;36mtrain\u001b[0;34m(params, dtrain, num_boost_round, evals, obj, feval, maximize, early_stopping_rounds, evals_result, verbose_eval, xgb_model, callbacks, learning_rates)\u001b[0m\n\u001b[1;32m    202\u001b[0m                            \u001b[0mevals\u001b[0m\u001b[0;34m=\u001b[0m\u001b[0mevals\u001b[0m\u001b[0;34m,\u001b[0m\u001b[0;34m\u001b[0m\u001b[0m\n\u001b[1;32m    203\u001b[0m                            \u001b[0mobj\u001b[0m\u001b[0;34m=\u001b[0m\u001b[0mobj\u001b[0m\u001b[0;34m,\u001b[0m \u001b[0mfeval\u001b[0m\u001b[0;34m=\u001b[0m\u001b[0mfeval\u001b[0m\u001b[0;34m,\u001b[0m\u001b[0;34m\u001b[0m\u001b[0m\n\u001b[0;32m--> 204\u001b[0;31m                            xgb_model=xgb_model, callbacks=callbacks)\n\u001b[0m\u001b[1;32m    205\u001b[0m \u001b[0;34m\u001b[0m\u001b[0m\n\u001b[1;32m    206\u001b[0m \u001b[0;34m\u001b[0m\u001b[0m\n",
      "\u001b[0;32m~/anaconda3/lib/python3.5/site-packages/xgboost/training.py\u001b[0m in \u001b[0;36m_train_internal\u001b[0;34m(params, dtrain, num_boost_round, evals, obj, feval, xgb_model, callbacks)\u001b[0m\n\u001b[1;32m     72\u001b[0m         \u001b[0;31m# Skip the first update if it is a recovery step.\u001b[0m\u001b[0;34m\u001b[0m\u001b[0;34m\u001b[0m\u001b[0m\n\u001b[1;32m     73\u001b[0m         \u001b[0;32mif\u001b[0m \u001b[0mversion\u001b[0m \u001b[0;34m%\u001b[0m \u001b[0;36m2\u001b[0m \u001b[0;34m==\u001b[0m \u001b[0;36m0\u001b[0m\u001b[0;34m:\u001b[0m\u001b[0;34m\u001b[0m\u001b[0m\n\u001b[0;32m---> 74\u001b[0;31m             \u001b[0mbst\u001b[0m\u001b[0;34m.\u001b[0m\u001b[0mupdate\u001b[0m\u001b[0;34m(\u001b[0m\u001b[0mdtrain\u001b[0m\u001b[0;34m,\u001b[0m \u001b[0mi\u001b[0m\u001b[0;34m,\u001b[0m \u001b[0mobj\u001b[0m\u001b[0;34m)\u001b[0m\u001b[0;34m\u001b[0m\u001b[0m\n\u001b[0m\u001b[1;32m     75\u001b[0m             \u001b[0mbst\u001b[0m\u001b[0;34m.\u001b[0m\u001b[0msave_rabit_checkpoint\u001b[0m\u001b[0;34m(\u001b[0m\u001b[0;34m)\u001b[0m\u001b[0;34m\u001b[0m\u001b[0m\n\u001b[1;32m     76\u001b[0m             \u001b[0mversion\u001b[0m \u001b[0;34m+=\u001b[0m \u001b[0;36m1\u001b[0m\u001b[0;34m\u001b[0m\u001b[0m\n",
      "\u001b[0;32m~/anaconda3/lib/python3.5/site-packages/xgboost/core.py\u001b[0m in \u001b[0;36mupdate\u001b[0;34m(self, dtrain, iteration, fobj)\u001b[0m\n\u001b[1;32m   1019\u001b[0m         \u001b[0;32mif\u001b[0m \u001b[0mfobj\u001b[0m \u001b[0;32mis\u001b[0m \u001b[0;32mNone\u001b[0m\u001b[0;34m:\u001b[0m\u001b[0;34m\u001b[0m\u001b[0m\n\u001b[1;32m   1020\u001b[0m             _check_call(_LIB.XGBoosterUpdateOneIter(self.handle, ctypes.c_int(iteration),\n\u001b[0;32m-> 1021\u001b[0;31m                                                     dtrain.handle))\n\u001b[0m\u001b[1;32m   1022\u001b[0m         \u001b[0;32melse\u001b[0m\u001b[0;34m:\u001b[0m\u001b[0;34m\u001b[0m\u001b[0m\n\u001b[1;32m   1023\u001b[0m             \u001b[0mpred\u001b[0m \u001b[0;34m=\u001b[0m \u001b[0mself\u001b[0m\u001b[0;34m.\u001b[0m\u001b[0mpredict\u001b[0m\u001b[0;34m(\u001b[0m\u001b[0mdtrain\u001b[0m\u001b[0;34m)\u001b[0m\u001b[0;34m\u001b[0m\u001b[0m\n",
      "\u001b[0;32m~/anaconda3/lib/python3.5/site-packages/xgboost/core.py\u001b[0m in \u001b[0;36m_check_call\u001b[0;34m(ret)\u001b[0m\n\u001b[1;32m    149\u001b[0m     \"\"\"\n\u001b[1;32m    150\u001b[0m     \u001b[0;32mif\u001b[0m \u001b[0mret\u001b[0m \u001b[0;34m!=\u001b[0m \u001b[0;36m0\u001b[0m\u001b[0;34m:\u001b[0m\u001b[0;34m\u001b[0m\u001b[0m\n\u001b[0;32m--> 151\u001b[0;31m         \u001b[0;32mraise\u001b[0m \u001b[0mXGBoostError\u001b[0m\u001b[0;34m(\u001b[0m\u001b[0m_LIB\u001b[0m\u001b[0;34m.\u001b[0m\u001b[0mXGBGetLastError\u001b[0m\u001b[0;34m(\u001b[0m\u001b[0;34m)\u001b[0m\u001b[0;34m)\u001b[0m\u001b[0;34m\u001b[0m\u001b[0m\n\u001b[0m\u001b[1;32m    152\u001b[0m \u001b[0;34m\u001b[0m\u001b[0m\n\u001b[1;32m    153\u001b[0m \u001b[0;34m\u001b[0m\u001b[0m\n",
      "\u001b[0;31mXGBoostError\u001b[0m: b'[21:29:52] src/learner.cc:152: XGBoost version not compiled with GPU support.\\n\\nStack trace returned 10 entries:\\n[bt] (0) /home/jaron/anaconda3/lib/libxgboost.so(dmlc::StackTrace()+0x42) [0x7f100f5a3692]\\n[bt] (1) /home/jaron/anaconda3/lib/libxgboost.so(dmlc::LogMessageFatal::~LogMessageFatal()+0x18) [0x7f100f5a3c98]\\n[bt] (2) /home/jaron/anaconda3/lib/libxgboost.so(xgboost::LearnerImpl::ConfigureUpdaters()+0xf1) [0x7f100f5b0031]\\n[bt] (3) /home/jaron/anaconda3/lib/libxgboost.so(xgboost::LearnerImpl::Configure(std::vector<std::pair<std::string, std::string>, std::allocator<std::pair<std::string, std::string> > > const&)+0x467) [0x7f100f5b27a7]\\n[bt] (4) /home/jaron/anaconda3/lib/libxgboost.so(XGBoosterUpdateOneIter+0x6e) [0x7f100f6f383e]\\n[bt] (5) /home/jaron/anaconda3/lib/python3.5/lib-dynload/../../libffi.so.6(ffi_call_unix64+0x4c) [0x7f108c729ec0]\\n[bt] (6) /home/jaron/anaconda3/lib/python3.5/lib-dynload/../../libffi.so.6(ffi_call+0x22d) [0x7f108c72987d]\\n[bt] (7) /home/jaron/anaconda3/lib/python3.5/lib-dynload/_ctypes.cpython-35m-x86_64-linux-gnu.so(_ctypes_callproc+0x2ce) [0x7f108c93eb3e]\\n[bt] (8) /home/jaron/anaconda3/lib/python3.5/lib-dynload/_ctypes.cpython-35m-x86_64-linux-gnu.so(+0x12565) [0x7f108c93f565]\\n[bt] (9) /home/jaron/anaconda3/bin/python(PyObject_Call+0x3a) [0x558646b9a45a]\\n\\n'"
     ]
    }
   ],
   "source": [
    "X_train, X_val, y_train, y_val = train_test_split(X, y, test_size=0.25, random_state=21)\n",
    "\n",
    "# weight positive examples more heavily \n",
    "w = make_weights(y_train)\n",
    "\n",
    "dtrain = xgb.DMatrix(X_train, label=y_train, weight=w)\n",
    "dval = xgb.DMatrix(X_val, label=y_val) \n",
    "\n",
    "# booster params \n",
    "param = {'max_depth': 16, 'eta': .05, 'objective': 'binary:logistic'}\n",
    "param['nthread'] = 16\n",
    "param['eval_metric'] = 'auc'\n",
    "param['subsample'] = .75\n",
    "#param['gpu_id'] = 0\n",
    "#param['tree_method'] = 'gpu_hist'\n",
    "\n",
    "# specify validation set \n",
    "evallist = [(dval, 'eval')]\n",
    "\n",
    "# Training \n",
    "num_round = 5000\n",
    "bst = xgb.train(param, dtrain, num_round, evals=evallist, early_stopping_rounds=5)"
   ]
  },
  {
   "cell_type": "code",
   "execution_count": 15,
   "metadata": {},
   "outputs": [
    {
     "data": {
      "image/png": "[encoded data removed]",
      "text/plain": [
       "<Figure size 648x432 with 1 Axes>"
      ]
     },
     "metadata": {},
     "output_type": "display_data"
    }
   ],
   "source": [
    "# prediction \n",
    "ypred = bst.predict(dval) \n",
    "\n",
    "fpr, tpr, _ = roc_curve(y_val, ypred)\n",
    "roc_auc = auc(fpr, tpr)\n",
    "\n",
    "plt.style.use('seaborn-colorblind')\n",
    "plt.rcParams.update({'font.size': 16, \n",
    "                     'legend.framealpha':1, \n",
    "                     'legend.edgecolor':'inherit'}) \n",
    "plt.figure(figsize=(9, 6))\n",
    "\n",
    "lw = 2\n",
    "plt.plot(fpr, tpr, \n",
    "         lw=lw, label='ROC curve (area = %0.2f)' % roc_auc)\n",
    "plt.plot([0, 1], [0, 1], color='navy', lw=lw, linestyle='--')\n",
    "plt.xlim([0.0, 1.0])\n",
    "plt.ylim([0.0, 1.05])\n",
    "plt.xlabel('False Positive Rate')\n",
    "plt.ylabel('True Positive Rate')\n",
    "plt.title('Receiver operating characteristic')\n",
    "plt.legend(loc=\"lower right\")\n",
    "\n",
    "plt.tight_layout()\n",
    "plt.show()"
   ]
  },
  {
   "cell_type": "code",
   "execution_count": 11,
   "metadata": {},
   "outputs": [],
   "source": [
    "valid_dataset = Dataset(val_df, path)                                               \n",
    "valid_loader = torch.utils.data.DataLoader(dataset=valid_dataset, \n",
    "                                           batch_size=batch_size)   \n",
    "\n",
    "model = model.eval()\n",
    "for i, (images, meta_data, labels) in enumerate(valid_loader):\n",
    "    images = images.to(device)\n",
    "\n",
    "    # Forward pass\n",
    "    embed = model(images)\n",
    "    embedding = embed.detach().cpu().numpy()\n",
    "\n",
    "    # determine NN features for the set of images \n",
    "    batch_features = np.concatenate((embedding, meta_data.numpy()), axis=1)\n",
    "    \n",
    "    # append the dataset\n",
    "    try:\n",
    "        Xval = np.concatenate((Xval, batch_features), 0)\n",
    "        yval = np.append(yval, labels.numpy())\n",
    "    except:\n",
    "        Xval = batch_features \n",
    "        yval = labels.numpy() \n",
    "        \n",
    "XGB_data = pd.DataFrame(data=Xval)\n",
    "XGB_data['targets'] = yval \n",
    "XGB_data.to_csv(\"XGB_ENet_val.csv\", index=False)\n",
    "\n",
    "XGB_data = pd.read_csv(\"XGB_ENet_val.csv\")\n",
    "Xval = np.array(XGB_data.values[:, :-1], np.float32) \n",
    "yval = np.array(XGB_data['targets'].values, np.float32)"
   ]
  },
  {
   "cell_type": "code",
   "execution_count": 16,
   "metadata": {},
   "outputs": [
    {
     "data": {
      "image/png": "[encoded data removed]",
      "text/plain": [
       "<Figure size 648x432 with 1 Axes>"
      ]
     },
     "metadata": {},
     "output_type": "display_data"
    }
   ],
   "source": [
    "dtest = xgb.DMatrix(Xval)\n",
    "ypred = bst.predict(dtest)\n",
    "\n",
    "fpr, tpr, _ = roc_curve(yval, ypred)\n",
    "roc_auc = auc(fpr, tpr)\n",
    "\n",
    "plt.style.use('seaborn-colorblind')\n",
    "plt.rcParams.update({'font.size': 16, \n",
    "                     'legend.framealpha':1, \n",
    "                     'legend.edgecolor':'inherit'}) \n",
    "plt.figure(figsize=(9, 6))\n",
    "\n",
    "lw = 2\n",
    "plt.plot(fpr, tpr, \n",
    "         lw=lw, label='ROC curve (area = %0.2f)' % roc_auc)\n",
    "plt.plot([0, 1], [0, 1], color='navy', lw=lw, linestyle='--')\n",
    "plt.xlim([0.0, 1.0])\n",
    "plt.ylim([0.0, 1.05])\n",
    "plt.xlabel('False Positive Rate')\n",
    "plt.ylabel('True Positive Rate')\n",
    "plt.title('Receiver operating characteristic')\n",
    "plt.legend(loc=\"lower right\")\n",
    "\n",
    "plt.tight_layout()\n",
    "plt.show()"
   ]
  },
  {
   "cell_type": "code",
   "execution_count": 17,
   "metadata": {},
   "outputs": [
    {
     "name": "stdout",
     "output_type": "stream",
     "text": [
      "validation accuracy: 0.923\n"
     ]
    }
   ],
   "source": [
    "val_acc = accuracy_score(yval, np.round(ypred))\n",
    "print(\"validation accuracy: {:.3f}\".format(val_acc))"
   ]
  },
  {
   "cell_type": "code",
   "execution_count": 19,
   "metadata": {},
   "outputs": [],
   "source": [
    "bst.save_model(\"../Models/xgbENet.model\")"
   ]
  }
 ],
 "metadata": {
  "kernelspec": {
   "display_name": "Python 3",
   "language": "python",
   "name": "python3"
  },
  "language_info": {
   "codemirror_mode": {
    "name": "ipython",
    "version": 3
   },
   "file_extension": ".py",
   "mimetype": "text/x-python",
   "name": "python",
   "nbconvert_exporter": "python",
   "pygments_lexer": "ipython3",
   "version": "3.5.4"
  }
 },
 "nbformat": 4,
 "nbformat_minor": 4
}
