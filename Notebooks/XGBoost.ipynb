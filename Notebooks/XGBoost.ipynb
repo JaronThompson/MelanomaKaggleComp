{
 "cells": [
  {
   "cell_type": "code",
   "execution_count": 1,
   "metadata": {},
   "outputs": [],
   "source": [
    "import numpy as np \n",
    "import pandas as pd \n",
    "#import pydicom\n",
    "import matplotlib.pyplot as plt \n",
    "\n",
    "import torch \n",
    "import torch.nn as nn\n",
    "import torchvision\n",
    "import torchvision.transforms as transforms\n",
    "\n",
    "from PIL import Image\n",
    "from skimage.transform import resize\n",
    "from sklearn.metrics import confusion_matrix, roc_curve, auc\n",
    "\n",
    "from sklearn.ensemble import RandomForestClassifier\n",
    "from sklearn.model_selection import train_test_split\n",
    "from sklearn.metrics import accuracy_score, confusion_matrix, roc_curve, auc\n",
    "\n",
    "import xgboost as xgb\n",
    "from xgboost import XGBClassifier"
   ]
  },
  {
   "cell_type": "code",
   "execution_count": 2,
   "metadata": {},
   "outputs": [
    {
     "name": "stdout",
     "output_type": "stream",
     "text": [
      "cuda:0\n"
     ]
    }
   ],
   "source": [
    "# Device configuration (GPU can be enabled in settings)\n",
    "device = torch.device('cuda:0' if torch.cuda.is_available() else 'cpu')\n",
    "#device = 'cpu'\n",
    "print(device)"
   ]
  },
  {
   "cell_type": "code",
   "execution_count": 3,
   "metadata": {},
   "outputs": [
    {
     "name": "stdout",
     "output_type": "stream",
     "text": [
      "Training on 58974 images, validating on 1513 images.\n"
     ]
    }
   ],
   "source": [
    "train_df = pd.read_csv(\"train_df.csv\")\n",
    "val_df = pd.read_csv(\"val_df.csv\")\n",
    "path = \"../../data/512x512-dataset-melanoma/512x512-dataset-melanoma/\"\n",
    "\n",
    "print(\"Training on {} images, validating on {} images.\".format(train_df.shape[0], val_df.shape[0]))"
   ]
  },
  {
   "cell_type": "code",
   "execution_count": 4,
   "metadata": {},
   "outputs": [
    {
     "data": {
      "text/plain": [
       "0"
      ]
     },
     "execution_count": 4,
     "metadata": {},
     "output_type": "execute_result"
    }
   ],
   "source": [
    "# make sure that image ids are unique in training and validation\n",
    "np.sum(np.in1d(train_df['image_id'].values, val_df['image_id'].values))"
   ]
  },
  {
   "cell_type": "code",
   "execution_count": 5,
   "metadata": {},
   "outputs": [],
   "source": [
    "# make sure that the validation data set has enough positive examples \n",
    "train_target = train_df['target'].values\n",
    "p_train = np.sum(train_target) / len(train_target)\n",
    "\n",
    "val_target = val_df['target'].values\n",
    "p_val = np.sum(val_target) / len(val_target)"
   ]
  },
  {
   "cell_type": "code",
   "execution_count": 6,
   "metadata": {},
   "outputs": [
    {
     "data": {
      "text/plain": [
       "<All keys matched successfully>"
      ]
     },
     "execution_count": 6,
     "metadata": {},
     "output_type": "execute_result"
    }
   ],
   "source": [
    "# Convolutional neural network\n",
    "class ConvNet(nn.Module):\n",
    "    def __init__(self):\n",
    "        super(ConvNet, self).__init__()\n",
    "        self.layer1 = nn.Sequential(\n",
    "            nn.Conv2d(in_channels=3, out_channels=8, kernel_size=7, stride=2, padding=2),\n",
    "            nn.BatchNorm2d(8),\n",
    "            nn.ReLU(),\n",
    "            nn.MaxPool2d(kernel_size=4, stride=4))\n",
    "        self.layer2 = nn.Sequential(\n",
    "            nn.Conv2d(8, 8, kernel_size=5, stride=1, padding=2),\n",
    "            nn.BatchNorm2d(8),\n",
    "            nn.ReLU(),\n",
    "            nn.MaxPool2d(kernel_size=4, stride=4)) \n",
    "        self.fc = nn.Sequential(\n",
    "            nn.Linear(1800, 32),\n",
    "            nn.BatchNorm1d(32),\n",
    "            nn.Sigmoid())\n",
    "        self.output = nn.Sequential(\n",
    "            nn.Linear(32, 1),\n",
    "            nn.Sigmoid())\n",
    "        \n",
    "    def embedding(self, x):\n",
    "        out = self.layer1(x)\n",
    "        out = self.layer2(out)\n",
    "        out = out.reshape(out.size(0), -1)\n",
    "        out = self.fc(out)\n",
    "        return out \n",
    "        \n",
    "    def forward(self, x):\n",
    "        out = self.layer1(x)\n",
    "        out = self.layer2(out)\n",
    "        out = out.reshape(out.size(0), -1)\n",
    "        out = self.fc(out)\n",
    "        out = self.output(out)\n",
    "        return out\n",
    "\n",
    "model = ConvNet().to(device)\n",
    "model.load_state_dict(torch.load('../Models/model.ckpt'), strict=False)"
   ]
  },
  {
   "cell_type": "code",
   "execution_count": 7,
   "metadata": {},
   "outputs": [],
   "source": [
    "meta_features = ['sex', 'age_approx', 'anatom_site_general_challenge'] \n",
    "\n",
    "encoder = {}\n",
    "for feature in meta_features: \n",
    "    # determine unique features  \n",
    "    categories = np.unique(np.array(train_df[feature].values, str))\n",
    "    for i, category in enumerate(categories): \n",
    "        if category != 'nan':\n",
    "            encoder[category] = np.float(i)\n",
    "encoder['nan'] = np.nan\n",
    "\n",
    "transform = transforms.Compose(\n",
    "                   [transforms.RandomHorizontalFlip(p=0.5),\n",
    "                    transforms.RandomVerticalFlip(p=0.5),\n",
    "                    transforms.ToTensor()])\n",
    "\n",
    "class Dataset(torch.utils.data.Dataset):\n",
    "    def __init__(self, df, path_to_files):\n",
    "        # 1. Initialize file paths or a list of file names.\n",
    "        self.path = path_to_files\n",
    "        self.df = df\n",
    "\n",
    "    def __getitem__(self, index):\n",
    "        # 1. Read one data from file (e.g. using numpy.fromfile, PIL.Image.open).\n",
    "        \n",
    "        # load X \n",
    "        img_name = self.df['image_id'].values[index]\n",
    "        img_path = self.path + img_name + \".jpg\"\n",
    "        img = plt.imread(img_path)\n",
    "        \n",
    "        # determine meta data \n",
    "        meta = self.df[meta_features].values[index]\n",
    "        meta_data = np.array([encoder[str(m)] for m in meta])\n",
    "        \n",
    "        # load y \n",
    "        label = self.df[\"target\"].values[index]\n",
    "        target = torch.tensor(label, dtype=torch.float32)\n",
    "        \n",
    "        # 2. Preprocess the data (e.g. torchvision.Transform).\n",
    "        img = Image.fromarray(img)\n",
    "        #img = img.resize((256, 256))\n",
    "        img_processed = transform(img)\n",
    "        # 3. Return a data pair (e.g. image and label).\n",
    "        return img_processed, meta_data, target\n",
    "        \n",
    "    def __len__(self):\n",
    "        # total size of your dataset.\n",
    "        return self.df.shape[0]"
   ]
  },
  {
   "cell_type": "code",
   "execution_count": 8,
   "metadata": {},
   "outputs": [],
   "source": [
    "# Use the data loader.\n",
    "\n",
    "batch_size = 64\n",
    "\n",
    "train_dataset = Dataset(train_df, path)                                              \n",
    "train_loader = torch.utils.data.DataLoader(dataset=train_dataset, \n",
    "                                           batch_size=batch_size)   \n",
    "\n",
    "model = model.eval()\n",
    "for i, (images, meta_data, labels) in enumerate(train_loader):\n",
    "    images = images.to(device)\n",
    "\n",
    "    # Forward pass\n",
    "    embed = model.embedding(images)\n",
    "    nn_pred = model.output(embed).detach().cpu().numpy()\n",
    "    embedding = embed.detach().cpu().numpy()\n",
    "\n",
    "    # determine NN features for the set of images \n",
    "    batch_features = np.concatenate((embedding, meta_data.numpy(), nn_pred), axis=1)\n",
    "    \n",
    "    # append the dataset\n",
    "    try:\n",
    "        X = np.concatenate((X, batch_features), 0)\n",
    "        y = np.append(y, labels.numpy())\n",
    "    except:\n",
    "        X = batch_features \n",
    "        y = labels.numpy() "
   ]
  },
  {
   "cell_type": "code",
   "execution_count": 9,
   "metadata": {},
   "outputs": [],
   "source": [
    "# Save X and y in pandas dataframe \n",
    "XGB_data = pd.DataFrame(data=X)\n",
    "XGB_data['targets'] = y \n",
    "XGB_data.to_csv(\"XGB_train.csv\", index=False)\n",
    "#XGB_data = pd.read_csv(\"XGB_train.csv\")\n",
    "\n",
    "X = np.array(XGB_data.values[:, :-1], np.float32) \n",
    "y = np.array(XGB_data['targets'].values, np.float32)"
   ]
  },
  {
   "cell_type": "code",
   "execution_count": 10,
   "metadata": {},
   "outputs": [],
   "source": [
    "# weight positive examples more heavily \n",
    "def make_weights(targets, nclasses=2):   \n",
    "    count = [0] * nclasses                                                      \n",
    "    for label in targets:                                                         \n",
    "        count[np.int(label)] += 1                                                     \n",
    "    weight_per_class = [0.] * nclasses                                      \n",
    "    N = float(sum(count))                                                   \n",
    "    for i in range(nclasses):                                                   \n",
    "        weight_per_class[i] = N/float(count[i])                                 \n",
    "    weight = [0] * len(targets)                                              \n",
    "    for idx, label in enumerate(targets):                                          \n",
    "        weight[idx] = weight_per_class[np.int(label)]                                  \n",
    "    return np.array(weight)"
   ]
  },
  {
   "cell_type": "code",
   "execution_count": 11,
   "metadata": {},
   "outputs": [
    {
     "name": "stdout",
     "output_type": "stream",
     "text": [
      "[14:30:36] src/tree/updater_prune.cc:74: tree pruning end, 1 roots, 1222 extra nodes, 0 pruned nodes, max_depth=12\n",
      "[0]\teval-auc:0.830518\n",
      "Will train until eval-auc hasn't improved in 15 rounds.\n",
      "[14:30:36] src/tree/updater_prune.cc:74: tree pruning end, 1 roots, 1250 extra nodes, 0 pruned nodes, max_depth=12\n",
      "[1]\teval-auc:0.840752\n",
      "[14:30:36] src/tree/updater_prune.cc:74: tree pruning end, 1 roots, 1328 extra nodes, 0 pruned nodes, max_depth=12\n",
      "[2]\teval-auc:0.841141\n",
      "[14:30:36] src/tree/updater_prune.cc:74: tree pruning end, 1 roots, 1240 extra nodes, 0 pruned nodes, max_depth=12\n",
      "[3]\teval-auc:0.846804\n",
      "[14:30:36] src/tree/updater_prune.cc:74: tree pruning end, 1 roots, 1266 extra nodes, 0 pruned nodes, max_depth=12\n",
      "[4]\teval-auc:0.851952\n",
      "[14:30:36] src/tree/updater_prune.cc:74: tree pruning end, 1 roots, 1238 extra nodes, 0 pruned nodes, max_depth=12\n",
      "[5]\teval-auc:0.851979\n",
      "[14:30:36] src/tree/updater_prune.cc:74: tree pruning end, 1 roots, 1348 extra nodes, 0 pruned nodes, max_depth=12\n",
      "[6]\teval-auc:0.854701\n",
      "[14:30:37] src/tree/updater_prune.cc:74: tree pruning end, 1 roots, 1316 extra nodes, 0 pruned nodes, max_depth=12\n",
      "[7]\teval-auc:0.858437\n",
      "[14:30:37] src/tree/updater_prune.cc:74: tree pruning end, 1 roots, 1248 extra nodes, 0 pruned nodes, max_depth=12\n",
      "[8]\teval-auc:0.857418\n",
      "[14:30:37] src/tree/updater_prune.cc:74: tree pruning end, 1 roots, 1324 extra nodes, 0 pruned nodes, max_depth=12\n",
      "[9]\teval-auc:0.857789\n",
      "[14:30:37] src/tree/updater_prune.cc:74: tree pruning end, 1 roots, 1302 extra nodes, 0 pruned nodes, max_depth=12\n",
      "[10]\teval-auc:0.857084\n",
      "[14:30:37] src/tree/updater_prune.cc:74: tree pruning end, 1 roots, 1282 extra nodes, 0 pruned nodes, max_depth=12\n",
      "[11]\teval-auc:0.858024\n",
      "[14:30:37] src/tree/updater_prune.cc:74: tree pruning end, 1 roots, 1368 extra nodes, 0 pruned nodes, max_depth=12\n",
      "[12]\teval-auc:0.859343\n",
      "[14:30:37] src/tree/updater_prune.cc:74: tree pruning end, 1 roots, 1396 extra nodes, 0 pruned nodes, max_depth=12\n",
      "[13]\teval-auc:0.862332\n",
      "[14:30:37] src/tree/updater_prune.cc:74: tree pruning end, 1 roots, 1320 extra nodes, 0 pruned nodes, max_depth=12\n",
      "[14]\teval-auc:0.862592\n",
      "[14:30:38] src/tree/updater_prune.cc:74: tree pruning end, 1 roots, 1322 extra nodes, 0 pruned nodes, max_depth=12\n",
      "[15]\teval-auc:0.863021\n",
      "[14:30:38] src/tree/updater_prune.cc:74: tree pruning end, 1 roots, 1350 extra nodes, 0 pruned nodes, max_depth=12\n",
      "[16]\teval-auc:0.86331\n",
      "[14:30:38] src/tree/updater_prune.cc:74: tree pruning end, 1 roots, 1268 extra nodes, 0 pruned nodes, max_depth=12\n",
      "[17]\teval-auc:0.864519\n",
      "[14:30:38] src/tree/updater_prune.cc:74: tree pruning end, 1 roots, 1422 extra nodes, 0 pruned nodes, max_depth=12\n",
      "[18]\teval-auc:0.865735\n",
      "[14:30:38] src/tree/updater_prune.cc:74: tree pruning end, 1 roots, 1290 extra nodes, 0 pruned nodes, max_depth=12\n",
      "[19]\teval-auc:0.867147\n",
      "[14:30:38] src/tree/updater_prune.cc:74: tree pruning end, 1 roots, 1240 extra nodes, 0 pruned nodes, max_depth=12\n",
      "[20]\teval-auc:0.866932\n",
      "[14:30:38] src/tree/updater_prune.cc:74: tree pruning end, 1 roots, 1150 extra nodes, 0 pruned nodes, max_depth=12\n",
      "[21]\teval-auc:0.867677\n",
      "[14:30:38] src/tree/updater_prune.cc:74: tree pruning end, 1 roots, 1248 extra nodes, 0 pruned nodes, max_depth=12\n",
      "[22]\teval-auc:0.868556\n",
      "[14:30:39] src/tree/updater_prune.cc:74: tree pruning end, 1 roots, 1358 extra nodes, 0 pruned nodes, max_depth=12\n",
      "[23]\teval-auc:0.869114\n",
      "[14:30:39] src/tree/updater_prune.cc:74: tree pruning end, 1 roots, 1402 extra nodes, 0 pruned nodes, max_depth=12\n",
      "[24]\teval-auc:0.869494\n",
      "[14:30:39] src/tree/updater_prune.cc:74: tree pruning end, 1 roots, 1346 extra nodes, 0 pruned nodes, max_depth=12\n",
      "[25]\teval-auc:0.869506\n",
      "[14:30:39] src/tree/updater_prune.cc:74: tree pruning end, 1 roots, 1208 extra nodes, 0 pruned nodes, max_depth=12\n",
      "[26]\teval-auc:0.869926\n",
      "[14:30:39] src/tree/updater_prune.cc:74: tree pruning end, 1 roots, 1234 extra nodes, 0 pruned nodes, max_depth=12\n",
      "[27]\teval-auc:0.870042\n",
      "[14:30:39] src/tree/updater_prune.cc:74: tree pruning end, 1 roots, 1272 extra nodes, 0 pruned nodes, max_depth=12\n",
      "[28]\teval-auc:0.870811\n",
      "[14:30:39] src/tree/updater_prune.cc:74: tree pruning end, 1 roots, 1278 extra nodes, 0 pruned nodes, max_depth=12\n",
      "[29]\teval-auc:0.871102\n",
      "[14:30:40] src/tree/updater_prune.cc:74: tree pruning end, 1 roots, 1294 extra nodes, 0 pruned nodes, max_depth=12\n",
      "[30]\teval-auc:0.871529\n",
      "[14:30:40] src/tree/updater_prune.cc:74: tree pruning end, 1 roots, 1252 extra nodes, 0 pruned nodes, max_depth=12\n",
      "[31]\teval-auc:0.871817\n",
      "[14:30:40] src/tree/updater_prune.cc:74: tree pruning end, 1 roots, 1196 extra nodes, 0 pruned nodes, max_depth=12\n",
      "[32]\teval-auc:0.871938\n",
      "[14:30:40] src/tree/updater_prune.cc:74: tree pruning end, 1 roots, 1284 extra nodes, 0 pruned nodes, max_depth=12\n",
      "[33]\teval-auc:0.872301\n",
      "[14:30:40] src/tree/updater_prune.cc:74: tree pruning end, 1 roots, 1248 extra nodes, 0 pruned nodes, max_depth=12\n",
      "[34]\teval-auc:0.872646\n",
      "[14:30:40] src/tree/updater_prune.cc:74: tree pruning end, 1 roots, 1178 extra nodes, 0 pruned nodes, max_depth=12\n",
      "[35]\teval-auc:0.873279\n",
      "[14:30:40] src/tree/updater_prune.cc:74: tree pruning end, 1 roots, 1224 extra nodes, 0 pruned nodes, max_depth=12\n",
      "[36]\teval-auc:0.873566\n",
      "[14:30:41] src/tree/updater_prune.cc:74: tree pruning end, 1 roots, 1170 extra nodes, 0 pruned nodes, max_depth=12\n",
      "[37]\teval-auc:0.873942\n",
      "[14:30:41] src/tree/updater_prune.cc:74: tree pruning end, 1 roots, 1174 extra nodes, 0 pruned nodes, max_depth=12\n",
      "[38]\teval-auc:0.874103\n",
      "[14:30:41] src/tree/updater_prune.cc:74: tree pruning end, 1 roots, 996 extra nodes, 0 pruned nodes, max_depth=12\n",
      "[39]\teval-auc:0.874206\n",
      "[14:30:41] src/tree/updater_prune.cc:74: tree pruning end, 1 roots, 1084 extra nodes, 0 pruned nodes, max_depth=12\n",
      "[40]\teval-auc:0.874141\n",
      "[14:30:41] src/tree/updater_prune.cc:74: tree pruning end, 1 roots, 1110 extra nodes, 0 pruned nodes, max_depth=12\n",
      "[41]\teval-auc:0.873909\n",
      "[14:30:41] src/tree/updater_prune.cc:74: tree pruning end, 1 roots, 1222 extra nodes, 0 pruned nodes, max_depth=12\n",
      "[42]\teval-auc:0.87412\n",
      "[14:30:41] src/tree/updater_prune.cc:74: tree pruning end, 1 roots, 1086 extra nodes, 0 pruned nodes, max_depth=12\n",
      "[43]\teval-auc:0.874331\n",
      "[14:30:41] src/tree/updater_prune.cc:74: tree pruning end, 1 roots, 1060 extra nodes, 0 pruned nodes, max_depth=12\n",
      "[44]\teval-auc:0.874669\n",
      "[14:30:42] src/tree/updater_prune.cc:74: tree pruning end, 1 roots, 1094 extra nodes, 0 pruned nodes, max_depth=12\n",
      "[45]\teval-auc:0.874609\n",
      "[14:30:42] src/tree/updater_prune.cc:74: tree pruning end, 1 roots, 1250 extra nodes, 0 pruned nodes, max_depth=12\n",
      "[46]\teval-auc:0.875\n",
      "[14:30:42] src/tree/updater_prune.cc:74: tree pruning end, 1 roots, 1042 extra nodes, 0 pruned nodes, max_depth=12\n",
      "[47]\teval-auc:0.875032\n",
      "[14:30:42] src/tree/updater_prune.cc:74: tree pruning end, 1 roots, 1326 extra nodes, 0 pruned nodes, max_depth=12\n",
      "[48]\teval-auc:0.875317\n",
      "[14:30:42] src/tree/updater_prune.cc:74: tree pruning end, 1 roots, 1070 extra nodes, 0 pruned nodes, max_depth=12\n",
      "[49]\teval-auc:0.875554\n",
      "[14:30:42] src/tree/updater_prune.cc:74: tree pruning end, 1 roots, 1262 extra nodes, 0 pruned nodes, max_depth=12\n",
      "[50]\teval-auc:0.875606\n",
      "[14:30:42] src/tree/updater_prune.cc:74: tree pruning end, 1 roots, 1312 extra nodes, 0 pruned nodes, max_depth=12\n",
      "[51]\teval-auc:0.875947\n",
      "[14:30:42] src/tree/updater_prune.cc:74: tree pruning end, 1 roots, 1042 extra nodes, 0 pruned nodes, max_depth=12\n",
      "[52]\teval-auc:0.876051\n",
      "[14:30:43] src/tree/updater_prune.cc:74: tree pruning end, 1 roots, 1038 extra nodes, 0 pruned nodes, max_depth=12\n",
      "[53]\teval-auc:0.876244\n",
      "[14:30:43] src/tree/updater_prune.cc:74: tree pruning end, 1 roots, 1000 extra nodes, 0 pruned nodes, max_depth=12\n",
      "[54]\teval-auc:0.876315\n",
      "[14:30:43] src/tree/updater_prune.cc:74: tree pruning end, 1 roots, 940 extra nodes, 0 pruned nodes, max_depth=12\n",
      "[55]\teval-auc:0.87633\n",
      "[14:30:43] src/tree/updater_prune.cc:74: tree pruning end, 1 roots, 1046 extra nodes, 0 pruned nodes, max_depth=12\n",
      "[56]\teval-auc:0.876185\n",
      "[14:30:43] src/tree/updater_prune.cc:74: tree pruning end, 1 roots, 992 extra nodes, 0 pruned nodes, max_depth=12\n",
      "[57]\teval-auc:0.876153\n",
      "[14:30:43] src/tree/updater_prune.cc:74: tree pruning end, 1 roots, 966 extra nodes, 0 pruned nodes, max_depth=12\n",
      "[58]\teval-auc:0.876352\n",
      "[14:30:43] src/tree/updater_prune.cc:74: tree pruning end, 1 roots, 918 extra nodes, 0 pruned nodes, max_depth=12\n",
      "[59]\teval-auc:0.876316\n"
     ]
    },
    {
     "name": "stdout",
     "output_type": "stream",
     "text": [
      "[14:30:43] src/tree/updater_prune.cc:74: tree pruning end, 1 roots, 772 extra nodes, 0 pruned nodes, max_depth=12\n",
      "[60]\teval-auc:0.876434\n",
      "[14:30:43] src/tree/updater_prune.cc:74: tree pruning end, 1 roots, 1094 extra nodes, 0 pruned nodes, max_depth=12\n",
      "[61]\teval-auc:0.876434\n",
      "[14:30:44] src/tree/updater_prune.cc:74: tree pruning end, 1 roots, 934 extra nodes, 0 pruned nodes, max_depth=12\n",
      "[62]\teval-auc:0.876658\n",
      "[14:30:44] src/tree/updater_prune.cc:74: tree pruning end, 1 roots, 1104 extra nodes, 0 pruned nodes, max_depth=12\n",
      "[63]\teval-auc:0.876989\n",
      "[14:30:44] src/tree/updater_prune.cc:74: tree pruning end, 1 roots, 948 extra nodes, 0 pruned nodes, max_depth=12\n",
      "[64]\teval-auc:0.877075\n",
      "[14:30:44] src/tree/updater_prune.cc:74: tree pruning end, 1 roots, 748 extra nodes, 0 pruned nodes, max_depth=12\n",
      "[65]\teval-auc:0.877072\n",
      "[14:30:44] src/tree/updater_prune.cc:74: tree pruning end, 1 roots, 856 extra nodes, 0 pruned nodes, max_depth=12\n",
      "[66]\teval-auc:0.877013\n",
      "[14:30:44] src/tree/updater_prune.cc:74: tree pruning end, 1 roots, 732 extra nodes, 0 pruned nodes, max_depth=12\n",
      "[67]\teval-auc:0.876858\n",
      "[14:30:44] src/tree/updater_prune.cc:74: tree pruning end, 1 roots, 714 extra nodes, 0 pruned nodes, max_depth=12\n",
      "[68]\teval-auc:0.876917\n",
      "[14:30:44] src/tree/updater_prune.cc:74: tree pruning end, 1 roots, 842 extra nodes, 0 pruned nodes, max_depth=12\n",
      "[69]\teval-auc:0.876799\n",
      "[14:30:45] src/tree/updater_prune.cc:74: tree pruning end, 1 roots, 656 extra nodes, 0 pruned nodes, max_depth=12\n",
      "[70]\teval-auc:0.876625\n",
      "[14:30:45] src/tree/updater_prune.cc:74: tree pruning end, 1 roots, 884 extra nodes, 0 pruned nodes, max_depth=12\n",
      "[71]\teval-auc:0.876752\n",
      "[14:30:45] src/tree/updater_prune.cc:74: tree pruning end, 1 roots, 686 extra nodes, 0 pruned nodes, max_depth=12\n",
      "[72]\teval-auc:0.8769\n",
      "[14:30:45] src/tree/updater_prune.cc:74: tree pruning end, 1 roots, 810 extra nodes, 0 pruned nodes, max_depth=12\n",
      "[73]\teval-auc:0.876857\n",
      "[14:30:45] src/tree/updater_prune.cc:74: tree pruning end, 1 roots, 922 extra nodes, 0 pruned nodes, max_depth=12\n",
      "[74]\teval-auc:0.876971\n",
      "[14:30:45] src/tree/updater_prune.cc:74: tree pruning end, 1 roots, 596 extra nodes, 0 pruned nodes, max_depth=12\n",
      "[75]\teval-auc:0.876965\n",
      "[14:30:45] src/tree/updater_prune.cc:74: tree pruning end, 1 roots, 856 extra nodes, 0 pruned nodes, max_depth=12\n",
      "[76]\teval-auc:0.87701\n",
      "[14:30:45] src/tree/updater_prune.cc:74: tree pruning end, 1 roots, 672 extra nodes, 0 pruned nodes, max_depth=12\n",
      "[77]\teval-auc:0.876868\n",
      "[14:30:45] src/tree/updater_prune.cc:74: tree pruning end, 1 roots, 556 extra nodes, 0 pruned nodes, max_depth=12\n",
      "[78]\teval-auc:0.876794\n",
      "[14:30:46] src/tree/updater_prune.cc:74: tree pruning end, 1 roots, 726 extra nodes, 0 pruned nodes, max_depth=12\n",
      "[79]\teval-auc:0.876906\n",
      "Stopping. Best iteration:\n",
      "[64]\teval-auc:0.877075\n",
      "\n"
     ]
    }
   ],
   "source": [
    "X_train, X_val, y_train, y_val = train_test_split(X, y, test_size=0.1, random_state=21)\n",
    "\n",
    "# weight positive examples more heavily \n",
    "w = make_weights(y_train)\n",
    "\n",
    "dtrain = xgb.DMatrix(X_train, label=y_train, weight=w)\n",
    "dval = xgb.DMatrix(X_val, label=y_val) \n",
    "\n",
    "# booster params \n",
    "param = {'max_depth': 12, 'eta': .05, 'objective': 'binary:logistic'}\n",
    "param['nthread'] = 8\n",
    "param['eval_metric'] = 'auc'\n",
    "\n",
    "# specify validation set \n",
    "evallist = [(dval, 'eval')]\n",
    "\n",
    "# Training \n",
    "num_round = 5000\n",
    "bst = xgb.train(param, dtrain, num_round, evals=evallist, early_stopping_rounds=15)"
   ]
  },
  {
   "cell_type": "code",
   "execution_count": 12,
   "metadata": {},
   "outputs": [
    {
     "data": {
      "image/png": "[encoded data removed]",
      "text/plain": [
       "<Figure size 648x432 with 1 Axes>"
      ]
     },
     "metadata": {},
     "output_type": "display_data"
    }
   ],
   "source": [
    "# prediction \n",
    "ypred = bst.predict(dval) \n",
    "\n",
    "fpr, tpr, _ = roc_curve(y_val, ypred)\n",
    "roc_auc = auc(fpr, tpr)\n",
    "\n",
    "plt.style.use('seaborn-colorblind')\n",
    "plt.rcParams.update({'font.size': 16, \n",
    "                     'legend.framealpha':1, \n",
    "                     'legend.edgecolor':'inherit'}) \n",
    "plt.figure(figsize=(9, 6))\n",
    "\n",
    "lw = 2\n",
    "plt.plot(fpr, tpr, \n",
    "         lw=lw, label='ROC curve (area = %0.2f)' % roc_auc)\n",
    "plt.plot([0, 1], [0, 1], color='navy', lw=lw, linestyle='--')\n",
    "plt.xlim([0.0, 1.0])\n",
    "plt.ylim([0.0, 1.05])\n",
    "plt.xlabel('False Positive Rate')\n",
    "plt.ylabel('True Positive Rate')\n",
    "plt.title('Receiver operating characteristic')\n",
    "plt.legend(loc=\"lower right\")\n",
    "\n",
    "plt.tight_layout()\n",
    "plt.show()"
   ]
  },
  {
   "cell_type": "code",
   "execution_count": 13,
   "metadata": {},
   "outputs": [],
   "source": [
    "\n",
    "batch_size = 32\n",
    "valid_dataset = Dataset(val_df, path)                                               \n",
    "valid_loader = torch.utils.data.DataLoader(dataset=valid_dataset, \n",
    "                                           batch_size=batch_size)   \n",
    "\n",
    "model = model.eval()\n",
    "for i, (images, meta_data, labels) in enumerate(valid_loader):\n",
    "    images = images.to(device)\n",
    "\n",
    "    # Forward pass\n",
    "    embed = model.embedding(images)\n",
    "    nn_pred = model.output(embed).detach().cpu().numpy()\n",
    "    embedding = embed.detach().cpu().numpy()\n",
    "\n",
    "    # determine NN features for the set of images \n",
    "    batch_features = np.concatenate((embedding, meta_data.numpy(), nn_pred), axis=1)\n",
    "    \n",
    "    # append the dataset\n",
    "    try:\n",
    "        Xval = np.concatenate((Xval, batch_features), 0)\n",
    "        yval = np.append(yval, labels.numpy())\n",
    "    except:\n",
    "        Xval = batch_features \n",
    "        yval = labels.numpy() \n",
    "        \n",
    "XGB_data = pd.DataFrame(data=Xval)\n",
    "XGB_data['targets'] = yval \n",
    "XGB_data.to_csv(\"XGB_val.csv\", index=False)\n",
    "\n",
    "#XGB_data = pd.read_csv(\"XGB_val.csv\")\n",
    "Xval = np.array(XGB_data.values[:, :-1], np.float32) \n",
    "yval = np.array(XGB_data['targets'].values, np.float32)"
   ]
  },
  {
   "cell_type": "code",
   "execution_count": 14,
   "metadata": {},
   "outputs": [
    {
     "data": {
      "image/png": "[encoded data removed]",
      "text/plain": [
       "<Figure size 648x432 with 1 Axes>"
      ]
     },
     "metadata": {},
     "output_type": "display_data"
    }
   ],
   "source": [
    "dtest = xgb.DMatrix(Xval)\n",
    "ypred = bst.predict(dtest)\n",
    "\n",
    "fpr, tpr, _ = roc_curve(yval, ypred)\n",
    "roc_auc = auc(fpr, tpr)\n",
    "\n",
    "plt.style.use('seaborn-colorblind')\n",
    "plt.rcParams.update({'font.size': 16, \n",
    "                     'legend.framealpha':1, \n",
    "                     'legend.edgecolor':'inherit'}) \n",
    "plt.figure(figsize=(9, 6))\n",
    "\n",
    "lw = 2\n",
    "plt.plot(fpr, tpr, \n",
    "         lw=lw, label='ROC curve (area = %0.2f)' % roc_auc)\n",
    "plt.plot([0, 1], [0, 1], color='navy', lw=lw, linestyle='--')\n",
    "plt.xlim([0.0, 1.0])\n",
    "plt.ylim([0.0, 1.05])\n",
    "plt.xlabel('False Positive Rate')\n",
    "plt.ylabel('True Positive Rate')\n",
    "plt.title('Receiver operating characteristic')\n",
    "plt.legend(loc=\"lower right\")\n",
    "\n",
    "plt.tight_layout()\n",
    "plt.show()"
   ]
  },
  {
   "cell_type": "code",
   "execution_count": 15,
   "metadata": {},
   "outputs": [
    {
     "name": "stdout",
     "output_type": "stream",
     "text": [
      "validation accuracy: 0.874\n"
     ]
    }
   ],
   "source": [
    "val_acc = accuracy_score(yval, np.round(ypred))\n",
    "print(\"validation accuracy: {:.3f}\".format(val_acc))"
   ]
  },
  {
   "cell_type": "code",
   "execution_count": 16,
   "metadata": {},
   "outputs": [],
   "source": [
    "bst.save_model(\"../Models/xgbNN.model\")"
   ]
  }
 ],
 "metadata": {
  "kernelspec": {
   "display_name": "Python 3",
   "language": "python",
   "name": "python3"
  },
  "language_info": {
   "codemirror_mode": {
    "name": "ipython",
    "version": 3
   },
   "file_extension": ".py",
   "mimetype": "text/x-python",
   "name": "python",
   "nbconvert_exporter": "python",
   "pygments_lexer": "ipython3",
   "version": "3.5.4"
  }
 },
 "nbformat": 4,
 "nbformat_minor": 4
}
